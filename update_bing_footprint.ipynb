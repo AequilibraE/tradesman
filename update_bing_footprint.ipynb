{
 "cells": [
  {
   "cell_type": "code",
   "execution_count": 1,
   "metadata": {},
   "outputs": [],
   "source": [
    "import geopandas as gpd\n",
    "import pandas as pd\n",
    "# from shapely.geometry import Polygon, MultiPolygon\n",
    "# import csv\n",
    "\n",
    "from os.path import dirname, isfile, join\n",
    "from tempfile import gettempdir\n",
    "from urllib.request import urlretrieve\n",
    "from zipfile import ZipFile\n",
    "import pycountry\n",
    "\n",
    "import gzip\t"
   ]
  },
  {
   "cell_type": "code",
   "execution_count": 2,
   "metadata": {},
   "outputs": [],
   "source": [
    "x = pd.read_csv(\"https://raw.githubusercontent.com/microsoft/GlobalMLBuildingFootprints/main/dataset-links.csv\")"
   ]
  },
  {
   "cell_type": "code",
   "execution_count": 15,
   "metadata": {},
   "outputs": [
    {
     "data": {
      "text/plain": [
       "False"
      ]
     },
     "execution_count": 15,
     "metadata": {},
     "output_type": "execute_result"
    }
   ],
   "source": [
    "\"Papua New Guinea\" in x.Location.values"
   ]
  },
  {
   "cell_type": "code",
   "execution_count": 9,
   "metadata": {},
   "outputs": [
    {
     "data": {
      "text/plain": [
       "array(['https://minedbuildings.blob.core.windows.net/global-buildings/2022-10-22/global-buildings.geojsonl/RegionName%3DBolivia/quadkey%3D210013323/part-00003-0bb2b168-55d3-4db4-8ea5-fee18b0aa622.c000.csv.gz',\n",
       "       'https://minedbuildings.blob.core.windows.net/global-buildings/2022-10-22/global-buildings.geojsonl/RegionName%3DBolivia/quadkey%3D210013332/part-00167-0bb2b168-55d3-4db4-8ea5-fee18b0aa622.c000.csv.gz',\n",
       "       'https://minedbuildings.blob.core.windows.net/global-buildings/2022-10-22/global-buildings.geojsonl/RegionName%3DBolivia/quadkey%3D210013333/part-00132-0bb2b168-55d3-4db4-8ea5-fee18b0aa622.c000.csv.gz',\n",
       "       'https://minedbuildings.blob.core.windows.net/global-buildings/2022-10-22/global-buildings.geojsonl/RegionName%3DBolivia/quadkey%3D210031101/part-00067-0bb2b168-55d3-4db4-8ea5-fee18b0aa622.c000.csv.gz',\n",
       "       'https://minedbuildings.blob.core.windows.net/global-buildings/2022-10-22/global-buildings.geojsonl/RegionName%3DBolivia/quadkey%3D210031103/part-00082-0bb2b168-55d3-4db4-8ea5-fee18b0aa622.c000.csv.gz',\n",
       "       'https://minedbuildings.blob.core.windows.net/global-buildings/2022-10-22/global-buildings.geojsonl/RegionName%3DBolivia/quadkey%3D210031110/part-00151-0bb2b168-55d3-4db4-8ea5-fee18b0aa622.c000.csv.gz',\n",
       "       'https://minedbuildings.blob.core.windows.net/global-buildings/2022-10-22/global-buildings.geojsonl/RegionName%3DBolivia/quadkey%3D210031111/part-00111-0bb2b168-55d3-4db4-8ea5-fee18b0aa622.c000.csv.gz',\n",
       "       'https://minedbuildings.blob.core.windows.net/global-buildings/2022-10-22/global-buildings.geojsonl/RegionName%3DBolivia/quadkey%3D210031112/part-00013-0bb2b168-55d3-4db4-8ea5-fee18b0aa622.c000.csv.gz',\n",
       "       'https://minedbuildings.blob.core.windows.net/global-buildings/2022-10-22/global-buildings.geojsonl/RegionName%3DBolivia/quadkey%3D210031113/part-00116-0bb2b168-55d3-4db4-8ea5-fee18b0aa622.c000.csv.gz',\n",
       "       'https://minedbuildings.blob.core.windows.net/global-buildings/2022-10-22/global-buildings.geojsonl/RegionName%3DBolivia/quadkey%3D210031132/part-00183-0bb2b168-55d3-4db4-8ea5-fee18b0aa622.c000.csv.gz',\n",
       "       'https://minedbuildings.blob.core.windows.net/global-buildings/2022-10-22/global-buildings.geojsonl/RegionName%3DBolivia/quadkey%3D210031133/part-00162-0bb2b168-55d3-4db4-8ea5-fee18b0aa622.c000.csv.gz',\n",
       "       'https://minedbuildings.blob.core.windows.net/global-buildings/2022-10-22/global-buildings.geojsonl/RegionName%3DBolivia/quadkey%3D210031301/part-00098-0bb2b168-55d3-4db4-8ea5-fee18b0aa622.c000.csv.gz',\n",
       "       'https://minedbuildings.blob.core.windows.net/global-buildings/2022-10-22/global-buildings.geojsonl/RegionName%3DBolivia/quadkey%3D210031303/part-00027-0bb2b168-55d3-4db4-8ea5-fee18b0aa622.c000.csv.gz',\n",
       "       'https://minedbuildings.blob.core.windows.net/global-buildings/2022-10-22/global-buildings.geojsonl/RegionName%3DBolivia/quadkey%3D210031310/part-00060-0bb2b168-55d3-4db4-8ea5-fee18b0aa622.c000.csv.gz',\n",
       "       'https://minedbuildings.blob.core.windows.net/global-buildings/2022-10-22/global-buildings.geojsonl/RegionName%3DBolivia/quadkey%3D210031311/part-00048-0bb2b168-55d3-4db4-8ea5-fee18b0aa622.c000.csv.gz',\n",
       "       'https://minedbuildings.blob.core.windows.net/global-buildings/2022-10-22/global-buildings.geojsonl/RegionName%3DBolivia/quadkey%3D210031312/part-00167-0bb2b168-55d3-4db4-8ea5-fee18b0aa622.c000.csv.gz',\n",
       "       'https://minedbuildings.blob.core.windows.net/global-buildings/2022-10-22/global-buildings.geojsonl/RegionName%3DBolivia/quadkey%3D210031313/part-00127-0bb2b168-55d3-4db4-8ea5-fee18b0aa622.c000.csv.gz',\n",
       "       'https://minedbuildings.blob.core.windows.net/global-buildings/2022-10-22/global-buildings.geojsonl/RegionName%3DBolivia/quadkey%3D210031321/part-00023-0bb2b168-55d3-4db4-8ea5-fee18b0aa622.c000.csv.gz',\n",
       "       'https://minedbuildings.blob.core.windows.net/global-buildings/2022-10-22/global-buildings.geojsonl/RegionName%3DBolivia/quadkey%3D210031323/part-00182-0bb2b168-55d3-4db4-8ea5-fee18b0aa622.c000.csv.gz',\n",
       "       'https://minedbuildings.blob.core.windows.net/global-buildings/2022-10-22/global-buildings.geojsonl/RegionName%3DBolivia/quadkey%3D210031330/part-00096-0bb2b168-55d3-4db4-8ea5-fee18b0aa622.c000.csv.gz',\n",
       "       'https://minedbuildings.blob.core.windows.net/global-buildings/2022-10-22/global-buildings.geojsonl/RegionName%3DBolivia/quadkey%3D210031331/part-00189-0bb2b168-55d3-4db4-8ea5-fee18b0aa622.c000.csv.gz',\n",
       "       'https://minedbuildings.blob.core.windows.net/global-buildings/2022-10-22/global-buildings.geojsonl/RegionName%3DBolivia/quadkey%3D210031332/part-00117-0bb2b168-55d3-4db4-8ea5-fee18b0aa622.c000.csv.gz',\n",
       "       'https://minedbuildings.blob.core.windows.net/global-buildings/2022-10-22/global-buildings.geojsonl/RegionName%3DBolivia/quadkey%3D210031333/part-00057-0bb2b168-55d3-4db4-8ea5-fee18b0aa622.c000.csv.gz',\n",
       "       'https://minedbuildings.blob.core.windows.net/global-buildings/2022-10-22/global-buildings.geojsonl/RegionName%3DBolivia/quadkey%3D210033101/part-00134-0bb2b168-55d3-4db4-8ea5-fee18b0aa622.c000.csv.gz',\n",
       "       'https://minedbuildings.blob.core.windows.net/global-buildings/2022-10-22/global-buildings.geojsonl/RegionName%3DBolivia/quadkey%3D210033103/part-00090-0bb2b168-55d3-4db4-8ea5-fee18b0aa622.c000.csv.gz',\n",
       "       'https://minedbuildings.blob.core.windows.net/global-buildings/2022-10-22/global-buildings.geojsonl/RegionName%3DBolivia/quadkey%3D210033110/part-00067-0bb2b168-55d3-4db4-8ea5-fee18b0aa622.c000.csv.gz',\n",
       "       'https://minedbuildings.blob.core.windows.net/global-buildings/2022-10-22/global-buildings.geojsonl/RegionName%3DBolivia/quadkey%3D210033111/part-00180-0bb2b168-55d3-4db4-8ea5-fee18b0aa622.c000.csv.gz',\n",
       "       'https://minedbuildings.blob.core.windows.net/global-buildings/2022-10-22/global-buildings.geojsonl/RegionName%3DBolivia/quadkey%3D210033112/part-00060-0bb2b168-55d3-4db4-8ea5-fee18b0aa622.c000.csv.gz',\n",
       "       'https://minedbuildings.blob.core.windows.net/global-buildings/2022-10-22/global-buildings.geojsonl/RegionName%3DBolivia/quadkey%3D210033113/part-00137-0bb2b168-55d3-4db4-8ea5-fee18b0aa622.c000.csv.gz',\n",
       "       'https://minedbuildings.blob.core.windows.net/global-buildings/2022-10-22/global-buildings.geojsonl/RegionName%3DBolivia/quadkey%3D210033121/part-00143-0bb2b168-55d3-4db4-8ea5-fee18b0aa622.c000.csv.gz',\n",
       "       'https://minedbuildings.blob.core.windows.net/global-buildings/2022-10-22/global-buildings.geojsonl/RegionName%3DBolivia/quadkey%3D210033130/part-00037-0bb2b168-55d3-4db4-8ea5-fee18b0aa622.c000.csv.gz',\n",
       "       'https://minedbuildings.blob.core.windows.net/global-buildings/2022-10-22/global-buildings.geojsonl/RegionName%3DBolivia/quadkey%3D210033131/part-00004-0bb2b168-55d3-4db4-8ea5-fee18b0aa622.c000.csv.gz',\n",
       "       'https://minedbuildings.blob.core.windows.net/global-buildings/2022-10-22/global-buildings.geojsonl/RegionName%3DBolivia/quadkey%3D210033132/part-00083-0bb2b168-55d3-4db4-8ea5-fee18b0aa622.c000.csv.gz',\n",
       "       'https://minedbuildings.blob.core.windows.net/global-buildings/2022-10-22/global-buildings.geojsonl/RegionName%3DBolivia/quadkey%3D210033133/part-00131-0bb2b168-55d3-4db4-8ea5-fee18b0aa622.c000.csv.gz',\n",
       "       'https://minedbuildings.blob.core.windows.net/global-buildings/2022-10-22/global-buildings.geojsonl/RegionName%3DBolivia/quadkey%3D210033310/part-00042-0bb2b168-55d3-4db4-8ea5-fee18b0aa622.c000.csv.gz',\n",
       "       'https://minedbuildings.blob.core.windows.net/global-buildings/2022-10-22/global-buildings.geojsonl/RegionName%3DBolivia/quadkey%3D210033311/part-00149-0bb2b168-55d3-4db4-8ea5-fee18b0aa622.c000.csv.gz',\n",
       "       'https://minedbuildings.blob.core.windows.net/global-buildings/2022-10-22/global-buildings.geojsonl/RegionName%3DBolivia/quadkey%3D210033312/part-00024-0bb2b168-55d3-4db4-8ea5-fee18b0aa622.c000.csv.gz',\n",
       "       'https://minedbuildings.blob.core.windows.net/global-buildings/2022-10-22/global-buildings.geojsonl/RegionName%3DBolivia/quadkey%3D210033313/part-00111-0bb2b168-55d3-4db4-8ea5-fee18b0aa622.c000.csv.gz',\n",
       "       'https://minedbuildings.blob.core.windows.net/global-buildings/2022-10-22/global-buildings.geojsonl/RegionName%3DBolivia/quadkey%3D210033330/part-00184-0bb2b168-55d3-4db4-8ea5-fee18b0aa622.c000.csv.gz',\n",
       "       'https://minedbuildings.blob.core.windows.net/global-buildings/2022-10-22/global-buildings.geojsonl/RegionName%3DBolivia/quadkey%3D210033331/part-00166-0bb2b168-55d3-4db4-8ea5-fee18b0aa622.c000.csv.gz',\n",
       "       'https://minedbuildings.blob.core.windows.net/global-buildings/2022-10-22/global-buildings.geojsonl/RegionName%3DBolivia/quadkey%3D210033333/part-00020-0bb2b168-55d3-4db4-8ea5-fee18b0aa622.c000.csv.gz',\n",
       "       'https://minedbuildings.blob.core.windows.net/global-buildings/2022-10-22/global-buildings.geojsonl/RegionName%3DBolivia/quadkey%3D210102212/part-00113-0bb2b168-55d3-4db4-8ea5-fee18b0aa622.c000.csv.gz',\n",
       "       'https://minedbuildings.blob.core.windows.net/global-buildings/2022-10-22/global-buildings.geojsonl/RegionName%3DBolivia/quadkey%3D210102213/part-00165-0bb2b168-55d3-4db4-8ea5-fee18b0aa622.c000.csv.gz',\n",
       "       'https://minedbuildings.blob.core.windows.net/global-buildings/2022-10-22/global-buildings.geojsonl/RegionName%3DBolivia/quadkey%3D210102220/part-00156-0bb2b168-55d3-4db4-8ea5-fee18b0aa622.c000.csv.gz',\n",
       "       'https://minedbuildings.blob.core.windows.net/global-buildings/2022-10-22/global-buildings.geojsonl/RegionName%3DBolivia/quadkey%3D210102221/part-00118-0bb2b168-55d3-4db4-8ea5-fee18b0aa622.c000.csv.gz',\n",
       "       'https://minedbuildings.blob.core.windows.net/global-buildings/2022-10-22/global-buildings.geojsonl/RegionName%3DBolivia/quadkey%3D210102222/part-00049-0bb2b168-55d3-4db4-8ea5-fee18b0aa622.c000.csv.gz',\n",
       "       'https://minedbuildings.blob.core.windows.net/global-buildings/2022-10-22/global-buildings.geojsonl/RegionName%3DBolivia/quadkey%3D210102223/part-00039-0bb2b168-55d3-4db4-8ea5-fee18b0aa622.c000.csv.gz',\n",
       "       'https://minedbuildings.blob.core.windows.net/global-buildings/2022-10-22/global-buildings.geojsonl/RegionName%3DBolivia/quadkey%3D210102230/part-00097-0bb2b168-55d3-4db4-8ea5-fee18b0aa622.c000.csv.gz',\n",
       "       'https://minedbuildings.blob.core.windows.net/global-buildings/2022-10-22/global-buildings.geojsonl/RegionName%3DBolivia/quadkey%3D210102231/part-00020-0bb2b168-55d3-4db4-8ea5-fee18b0aa622.c000.csv.gz',\n",
       "       'https://minedbuildings.blob.core.windows.net/global-buildings/2022-10-22/global-buildings.geojsonl/RegionName%3DBolivia/quadkey%3D210102232/part-00137-0bb2b168-55d3-4db4-8ea5-fee18b0aa622.c000.csv.gz',\n",
       "       'https://minedbuildings.blob.core.windows.net/global-buildings/2022-10-22/global-buildings.geojsonl/RegionName%3DBolivia/quadkey%3D210102233/part-00047-0bb2b168-55d3-4db4-8ea5-fee18b0aa622.c000.csv.gz',\n",
       "       'https://minedbuildings.blob.core.windows.net/global-buildings/2022-10-22/global-buildings.geojsonl/RegionName%3DBolivia/quadkey%3D210120000/part-00088-0bb2b168-55d3-4db4-8ea5-fee18b0aa622.c000.csv.gz',\n",
       "       'https://minedbuildings.blob.core.windows.net/global-buildings/2022-10-22/global-buildings.geojsonl/RegionName%3DBolivia/quadkey%3D210120001/part-00197-0bb2b168-55d3-4db4-8ea5-fee18b0aa622.c000.csv.gz',\n",
       "       'https://minedbuildings.blob.core.windows.net/global-buildings/2022-10-22/global-buildings.geojsonl/RegionName%3DBolivia/quadkey%3D210120002/part-00052-0bb2b168-55d3-4db4-8ea5-fee18b0aa622.c000.csv.gz',\n",
       "       'https://minedbuildings.blob.core.windows.net/global-buildings/2022-10-22/global-buildings.geojsonl/RegionName%3DBolivia/quadkey%3D210120003/part-00185-0bb2b168-55d3-4db4-8ea5-fee18b0aa622.c000.csv.gz',\n",
       "       'https://minedbuildings.blob.core.windows.net/global-buildings/2022-10-22/global-buildings.geojsonl/RegionName%3DBolivia/quadkey%3D210120010/part-00063-0bb2b168-55d3-4db4-8ea5-fee18b0aa622.c000.csv.gz',\n",
       "       'https://minedbuildings.blob.core.windows.net/global-buildings/2022-10-22/global-buildings.geojsonl/RegionName%3DBolivia/quadkey%3D210120011/part-00152-0bb2b168-55d3-4db4-8ea5-fee18b0aa622.c000.csv.gz',\n",
       "       'https://minedbuildings.blob.core.windows.net/global-buildings/2022-10-22/global-buildings.geojsonl/RegionName%3DBolivia/quadkey%3D210120012/part-00177-0bb2b168-55d3-4db4-8ea5-fee18b0aa622.c000.csv.gz',\n",
       "       'https://minedbuildings.blob.core.windows.net/global-buildings/2022-10-22/global-buildings.geojsonl/RegionName%3DBolivia/quadkey%3D210120013/part-00051-0bb2b168-55d3-4db4-8ea5-fee18b0aa622.c000.csv.gz',\n",
       "       'https://minedbuildings.blob.core.windows.net/global-buildings/2022-10-22/global-buildings.geojsonl/RegionName%3DBolivia/quadkey%3D210120020/part-00071-0bb2b168-55d3-4db4-8ea5-fee18b0aa622.c000.csv.gz',\n",
       "       'https://minedbuildings.blob.core.windows.net/global-buildings/2022-10-22/global-buildings.geojsonl/RegionName%3DBolivia/quadkey%3D210120021/part-00171-0bb2b168-55d3-4db4-8ea5-fee18b0aa622.c000.csv.gz',\n",
       "       'https://minedbuildings.blob.core.windows.net/global-buildings/2022-10-22/global-buildings.geojsonl/RegionName%3DBolivia/quadkey%3D210120022/part-00148-0bb2b168-55d3-4db4-8ea5-fee18b0aa622.c000.csv.gz',\n",
       "       'https://minedbuildings.blob.core.windows.net/global-buildings/2022-10-22/global-buildings.geojsonl/RegionName%3DBolivia/quadkey%3D210120023/part-00197-0bb2b168-55d3-4db4-8ea5-fee18b0aa622.c000.csv.gz',\n",
       "       'https://minedbuildings.blob.core.windows.net/global-buildings/2022-10-22/global-buildings.geojsonl/RegionName%3DBolivia/quadkey%3D210120030/part-00127-0bb2b168-55d3-4db4-8ea5-fee18b0aa622.c000.csv.gz',\n",
       "       'https://minedbuildings.blob.core.windows.net/global-buildings/2022-10-22/global-buildings.geojsonl/RegionName%3DBolivia/quadkey%3D210120031/part-00068-0bb2b168-55d3-4db4-8ea5-fee18b0aa622.c000.csv.gz',\n",
       "       'https://minedbuildings.blob.core.windows.net/global-buildings/2022-10-22/global-buildings.geojsonl/RegionName%3DBolivia/quadkey%3D210120032/part-00177-0bb2b168-55d3-4db4-8ea5-fee18b0aa622.c000.csv.gz',\n",
       "       'https://minedbuildings.blob.core.windows.net/global-buildings/2022-10-22/global-buildings.geojsonl/RegionName%3DBolivia/quadkey%3D210120033/part-00013-0bb2b168-55d3-4db4-8ea5-fee18b0aa622.c000.csv.gz',\n",
       "       'https://minedbuildings.blob.core.windows.net/global-buildings/2022-10-22/global-buildings.geojsonl/RegionName%3DBolivia/quadkey%3D210120102/part-00178-0bb2b168-55d3-4db4-8ea5-fee18b0aa622.c000.csv.gz',\n",
       "       'https://minedbuildings.blob.core.windows.net/global-buildings/2022-10-22/global-buildings.geojsonl/RegionName%3DBolivia/quadkey%3D210120120/part-00010-0bb2b168-55d3-4db4-8ea5-fee18b0aa622.c000.csv.gz',\n",
       "       'https://minedbuildings.blob.core.windows.net/global-buildings/2022-10-22/global-buildings.geojsonl/RegionName%3DBolivia/quadkey%3D210120121/part-00173-0bb2b168-55d3-4db4-8ea5-fee18b0aa622.c000.csv.gz',\n",
       "       'https://minedbuildings.blob.core.windows.net/global-buildings/2022-10-22/global-buildings.geojsonl/RegionName%3DBolivia/quadkey%3D210120122/part-00197-0bb2b168-55d3-4db4-8ea5-fee18b0aa622.c000.csv.gz',\n",
       "       'https://minedbuildings.blob.core.windows.net/global-buildings/2022-10-22/global-buildings.geojsonl/RegionName%3DBolivia/quadkey%3D210120123/part-00134-0bb2b168-55d3-4db4-8ea5-fee18b0aa622.c000.csv.gz',\n",
       "       'https://minedbuildings.blob.core.windows.net/global-buildings/2022-10-22/global-buildings.geojsonl/RegionName%3DBolivia/quadkey%3D210120133/part-00150-0bb2b168-55d3-4db4-8ea5-fee18b0aa622.c000.csv.gz',\n",
       "       'https://minedbuildings.blob.core.windows.net/global-buildings/2022-10-22/global-buildings.geojsonl/RegionName%3DBolivia/quadkey%3D210120200/part-00125-0bb2b168-55d3-4db4-8ea5-fee18b0aa622.c000.csv.gz',\n",
       "       'https://minedbuildings.blob.core.windows.net/global-buildings/2022-10-22/global-buildings.geojsonl/RegionName%3DBolivia/quadkey%3D210120201/part-00071-0bb2b168-55d3-4db4-8ea5-fee18b0aa622.c000.csv.gz',\n",
       "       'https://minedbuildings.blob.core.windows.net/global-buildings/2022-10-22/global-buildings.geojsonl/RegionName%3DBolivia/quadkey%3D210120202/part-00023-0bb2b168-55d3-4db4-8ea5-fee18b0aa622.c000.csv.gz',\n",
       "       'https://minedbuildings.blob.core.windows.net/global-buildings/2022-10-22/global-buildings.geojsonl/RegionName%3DBolivia/quadkey%3D210120203/part-00137-0bb2b168-55d3-4db4-8ea5-fee18b0aa622.c000.csv.gz',\n",
       "       'https://minedbuildings.blob.core.windows.net/global-buildings/2022-10-22/global-buildings.geojsonl/RegionName%3DBolivia/quadkey%3D210120210/part-00152-0bb2b168-55d3-4db4-8ea5-fee18b0aa622.c000.csv.gz',\n",
       "       'https://minedbuildings.blob.core.windows.net/global-buildings/2022-10-22/global-buildings.geojsonl/RegionName%3DBolivia/quadkey%3D210120211/part-00059-0bb2b168-55d3-4db4-8ea5-fee18b0aa622.c000.csv.gz',\n",
       "       'https://minedbuildings.blob.core.windows.net/global-buildings/2022-10-22/global-buildings.geojsonl/RegionName%3DBolivia/quadkey%3D210120212/part-00116-0bb2b168-55d3-4db4-8ea5-fee18b0aa622.c000.csv.gz',\n",
       "       'https://minedbuildings.blob.core.windows.net/global-buildings/2022-10-22/global-buildings.geojsonl/RegionName%3DBolivia/quadkey%3D210120213/part-00105-0bb2b168-55d3-4db4-8ea5-fee18b0aa622.c000.csv.gz',\n",
       "       'https://minedbuildings.blob.core.windows.net/global-buildings/2022-10-22/global-buildings.geojsonl/RegionName%3DBolivia/quadkey%3D210120220/part-00156-0bb2b168-55d3-4db4-8ea5-fee18b0aa622.c000.csv.gz',\n",
       "       'https://minedbuildings.blob.core.windows.net/global-buildings/2022-10-22/global-buildings.geojsonl/RegionName%3DBolivia/quadkey%3D210120221/part-00011-0bb2b168-55d3-4db4-8ea5-fee18b0aa622.c000.csv.gz',\n",
       "       'https://minedbuildings.blob.core.windows.net/global-buildings/2022-10-22/global-buildings.geojsonl/RegionName%3DBolivia/quadkey%3D210120222/part-00188-0bb2b168-55d3-4db4-8ea5-fee18b0aa622.c000.csv.gz',\n",
       "       'https://minedbuildings.blob.core.windows.net/global-buildings/2022-10-22/global-buildings.geojsonl/RegionName%3DBolivia/quadkey%3D210120223/part-00010-0bb2b168-55d3-4db4-8ea5-fee18b0aa622.c000.csv.gz',\n",
       "       'https://minedbuildings.blob.core.windows.net/global-buildings/2022-10-22/global-buildings.geojsonl/RegionName%3DBolivia/quadkey%3D210120230/part-00010-0bb2b168-55d3-4db4-8ea5-fee18b0aa622.c000.csv.gz',\n",
       "       'https://minedbuildings.blob.core.windows.net/global-buildings/2022-10-22/global-buildings.geojsonl/RegionName%3DBolivia/quadkey%3D210120231/part-00183-0bb2b168-55d3-4db4-8ea5-fee18b0aa622.c000.csv.gz',\n",
       "       'https://minedbuildings.blob.core.windows.net/global-buildings/2022-10-22/global-buildings.geojsonl/RegionName%3DBolivia/quadkey%3D210120232/part-00075-0bb2b168-55d3-4db4-8ea5-fee18b0aa622.c000.csv.gz',\n",
       "       'https://minedbuildings.blob.core.windows.net/global-buildings/2022-10-22/global-buildings.geojsonl/RegionName%3DBolivia/quadkey%3D210120233/part-00053-0bb2b168-55d3-4db4-8ea5-fee18b0aa622.c000.csv.gz',\n",
       "       'https://minedbuildings.blob.core.windows.net/global-buildings/2022-10-22/global-buildings.geojsonl/RegionName%3DBolivia/quadkey%3D210120301/part-00078-0bb2b168-55d3-4db4-8ea5-fee18b0aa622.c000.csv.gz',\n",
       "       'https://minedbuildings.blob.core.windows.net/global-buildings/2022-10-22/global-buildings.geojsonl/RegionName%3DBolivia/quadkey%3D210120302/part-00146-0bb2b168-55d3-4db4-8ea5-fee18b0aa622.c000.csv.gz',\n",
       "       'https://minedbuildings.blob.core.windows.net/global-buildings/2022-10-22/global-buildings.geojsonl/RegionName%3DBolivia/quadkey%3D210120303/part-00012-0bb2b168-55d3-4db4-8ea5-fee18b0aa622.c000.csv.gz',\n",
       "       'https://minedbuildings.blob.core.windows.net/global-buildings/2022-10-22/global-buildings.geojsonl/RegionName%3DBolivia/quadkey%3D210120311/part-00152-0bb2b168-55d3-4db4-8ea5-fee18b0aa622.c000.csv.gz',\n",
       "       'https://minedbuildings.blob.core.windows.net/global-buildings/2022-10-22/global-buildings.geojsonl/RegionName%3DBolivia/quadkey%3D210120312/part-00169-0bb2b168-55d3-4db4-8ea5-fee18b0aa622.c000.csv.gz',\n",
       "       'https://minedbuildings.blob.core.windows.net/global-buildings/2022-10-22/global-buildings.geojsonl/RegionName%3DBolivia/quadkey%3D210120313/part-00098-0bb2b168-55d3-4db4-8ea5-fee18b0aa622.c000.csv.gz',\n",
       "       'https://minedbuildings.blob.core.windows.net/global-buildings/2022-10-22/global-buildings.geojsonl/RegionName%3DBolivia/quadkey%3D210120320/part-00007-0bb2b168-55d3-4db4-8ea5-fee18b0aa622.c000.csv.gz',\n",
       "       'https://minedbuildings.blob.core.windows.net/global-buildings/2022-10-22/global-buildings.geojsonl/RegionName%3DBolivia/quadkey%3D210120321/part-00080-0bb2b168-55d3-4db4-8ea5-fee18b0aa622.c000.csv.gz',\n",
       "       'https://minedbuildings.blob.core.windows.net/global-buildings/2022-10-22/global-buildings.geojsonl/RegionName%3DBolivia/quadkey%3D210120322/part-00170-0bb2b168-55d3-4db4-8ea5-fee18b0aa622.c000.csv.gz',\n",
       "       'https://minedbuildings.blob.core.windows.net/global-buildings/2022-10-22/global-buildings.geojsonl/RegionName%3DBolivia/quadkey%3D210120323/part-00072-0bb2b168-55d3-4db4-8ea5-fee18b0aa622.c000.csv.gz',\n",
       "       'https://minedbuildings.blob.core.windows.net/global-buildings/2022-10-22/global-buildings.geojsonl/RegionName%3DBolivia/quadkey%3D210120330/part-00018-0bb2b168-55d3-4db4-8ea5-fee18b0aa622.c000.csv.gz',\n",
       "       'https://minedbuildings.blob.core.windows.net/global-buildings/2022-10-22/global-buildings.geojsonl/RegionName%3DBolivia/quadkey%3D210120331/part-00172-0bb2b168-55d3-4db4-8ea5-fee18b0aa622.c000.csv.gz',\n",
       "       'https://minedbuildings.blob.core.windows.net/global-buildings/2022-10-22/global-buildings.geojsonl/RegionName%3DBolivia/quadkey%3D210120332/part-00017-0bb2b168-55d3-4db4-8ea5-fee18b0aa622.c000.csv.gz',\n",
       "       'https://minedbuildings.blob.core.windows.net/global-buildings/2022-10-22/global-buildings.geojsonl/RegionName%3DBolivia/quadkey%3D210120333/part-00060-0bb2b168-55d3-4db4-8ea5-fee18b0aa622.c000.csv.gz',\n",
       "       'https://minedbuildings.blob.core.windows.net/global-buildings/2022-10-22/global-buildings.geojsonl/RegionName%3DBolivia/quadkey%3D210121022/part-00012-0bb2b168-55d3-4db4-8ea5-fee18b0aa622.c000.csv.gz',\n",
       "       'https://minedbuildings.blob.core.windows.net/global-buildings/2022-10-22/global-buildings.geojsonl/RegionName%3DBolivia/quadkey%3D210121200/part-00009-0bb2b168-55d3-4db4-8ea5-fee18b0aa622.c000.csv.gz',\n",
       "       'https://minedbuildings.blob.core.windows.net/global-buildings/2022-10-22/global-buildings.geojsonl/RegionName%3DBolivia/quadkey%3D210121202/part-00057-0bb2b168-55d3-4db4-8ea5-fee18b0aa622.c000.csv.gz',\n",
       "       'https://minedbuildings.blob.core.windows.net/global-buildings/2022-10-22/global-buildings.geojsonl/RegionName%3DBolivia/quadkey%3D210121203/part-00086-0bb2b168-55d3-4db4-8ea5-fee18b0aa622.c000.csv.gz',\n",
       "       'https://minedbuildings.blob.core.windows.net/global-buildings/2022-10-22/global-buildings.geojsonl/RegionName%3DBolivia/quadkey%3D210121212/part-00161-0bb2b168-55d3-4db4-8ea5-fee18b0aa622.c000.csv.gz',\n",
       "       'https://minedbuildings.blob.core.windows.net/global-buildings/2022-10-22/global-buildings.geojsonl/RegionName%3DBolivia/quadkey%3D210121220/part-00152-0bb2b168-55d3-4db4-8ea5-fee18b0aa622.c000.csv.gz',\n",
       "       'https://minedbuildings.blob.core.windows.net/global-buildings/2022-10-22/global-buildings.geojsonl/RegionName%3DBolivia/quadkey%3D210121221/part-00096-0bb2b168-55d3-4db4-8ea5-fee18b0aa622.c000.csv.gz',\n",
       "       'https://minedbuildings.blob.core.windows.net/global-buildings/2022-10-22/global-buildings.geojsonl/RegionName%3DBolivia/quadkey%3D210121222/part-00123-0bb2b168-55d3-4db4-8ea5-fee18b0aa622.c000.csv.gz',\n",
       "       'https://minedbuildings.blob.core.windows.net/global-buildings/2022-10-22/global-buildings.geojsonl/RegionName%3DBolivia/quadkey%3D210121223/part-00014-0bb2b168-55d3-4db4-8ea5-fee18b0aa622.c000.csv.gz',\n",
       "       'https://minedbuildings.blob.core.windows.net/global-buildings/2022-10-22/global-buildings.geojsonl/RegionName%3DBolivia/quadkey%3D210121230/part-00183-0bb2b168-55d3-4db4-8ea5-fee18b0aa622.c000.csv.gz',\n",
       "       'https://minedbuildings.blob.core.windows.net/global-buildings/2022-10-22/global-buildings.geojsonl/RegionName%3DBolivia/quadkey%3D210121232/part-00024-0bb2b168-55d3-4db4-8ea5-fee18b0aa622.c000.csv.gz',\n",
       "       'https://minedbuildings.blob.core.windows.net/global-buildings/2022-10-22/global-buildings.geojsonl/RegionName%3DBolivia/quadkey%3D210121233/part-00016-0bb2b168-55d3-4db4-8ea5-fee18b0aa622.c000.csv.gz',\n",
       "       'https://minedbuildings.blob.core.windows.net/global-buildings/2022-10-22/global-buildings.geojsonl/RegionName%3DBolivia/quadkey%3D210121322/part-00026-0bb2b168-55d3-4db4-8ea5-fee18b0aa622.c000.csv.gz',\n",
       "       'https://minedbuildings.blob.core.windows.net/global-buildings/2022-10-22/global-buildings.geojsonl/RegionName%3DBolivia/quadkey%3D210121323/part-00064-0bb2b168-55d3-4db4-8ea5-fee18b0aa622.c000.csv.gz',\n",
       "       'https://minedbuildings.blob.core.windows.net/global-buildings/2022-10-22/global-buildings.geojsonl/RegionName%3DBolivia/quadkey%3D210122000/part-00190-0bb2b168-55d3-4db4-8ea5-fee18b0aa622.c000.csv.gz',\n",
       "       'https://minedbuildings.blob.core.windows.net/global-buildings/2022-10-22/global-buildings.geojsonl/RegionName%3DBolivia/quadkey%3D210122001/part-00017-0bb2b168-55d3-4db4-8ea5-fee18b0aa622.c000.csv.gz',\n",
       "       'https://minedbuildings.blob.core.windows.net/global-buildings/2022-10-22/global-buildings.geojsonl/RegionName%3DBolivia/quadkey%3D210122002/part-00151-0bb2b168-55d3-4db4-8ea5-fee18b0aa622.c000.csv.gz',\n",
       "       'https://minedbuildings.blob.core.windows.net/global-buildings/2022-10-22/global-buildings.geojsonl/RegionName%3DBolivia/quadkey%3D210122003/part-00006-0bb2b168-55d3-4db4-8ea5-fee18b0aa622.c000.csv.gz',\n",
       "       'https://minedbuildings.blob.core.windows.net/global-buildings/2022-10-22/global-buildings.geojsonl/RegionName%3DBolivia/quadkey%3D210122010/part-00049-0bb2b168-55d3-4db4-8ea5-fee18b0aa622.c000.csv.gz',\n",
       "       'https://minedbuildings.blob.core.windows.net/global-buildings/2022-10-22/global-buildings.geojsonl/RegionName%3DBolivia/quadkey%3D210122011/part-00092-0bb2b168-55d3-4db4-8ea5-fee18b0aa622.c000.csv.gz',\n",
       "       'https://minedbuildings.blob.core.windows.net/global-buildings/2022-10-22/global-buildings.geojsonl/RegionName%3DBolivia/quadkey%3D210122012/part-00041-0bb2b168-55d3-4db4-8ea5-fee18b0aa622.c000.csv.gz',\n",
       "       'https://minedbuildings.blob.core.windows.net/global-buildings/2022-10-22/global-buildings.geojsonl/RegionName%3DBolivia/quadkey%3D210122013/part-00044-0bb2b168-55d3-4db4-8ea5-fee18b0aa622.c000.csv.gz',\n",
       "       'https://minedbuildings.blob.core.windows.net/global-buildings/2022-10-22/global-buildings.geojsonl/RegionName%3DBolivia/quadkey%3D210122020/part-00115-0bb2b168-55d3-4db4-8ea5-fee18b0aa622.c000.csv.gz',\n",
       "       'https://minedbuildings.blob.core.windows.net/global-buildings/2022-10-22/global-buildings.geojsonl/RegionName%3DBolivia/quadkey%3D210122021/part-00129-0bb2b168-55d3-4db4-8ea5-fee18b0aa622.c000.csv.gz',\n",
       "       'https://minedbuildings.blob.core.windows.net/global-buildings/2022-10-22/global-buildings.geojsonl/RegionName%3DBolivia/quadkey%3D210122022/part-00155-0bb2b168-55d3-4db4-8ea5-fee18b0aa622.c000.csv.gz',\n",
       "       'https://minedbuildings.blob.core.windows.net/global-buildings/2022-10-22/global-buildings.geojsonl/RegionName%3DBolivia/quadkey%3D210122023/part-00146-0bb2b168-55d3-4db4-8ea5-fee18b0aa622.c000.csv.gz',\n",
       "       'https://minedbuildings.blob.core.windows.net/global-buildings/2022-10-22/global-buildings.geojsonl/RegionName%3DBolivia/quadkey%3D210122030/part-00198-0bb2b168-55d3-4db4-8ea5-fee18b0aa622.c000.csv.gz',\n",
       "       'https://minedbuildings.blob.core.windows.net/global-buildings/2022-10-22/global-buildings.geojsonl/RegionName%3DBolivia/quadkey%3D210122031/part-00061-0bb2b168-55d3-4db4-8ea5-fee18b0aa622.c000.csv.gz',\n",
       "       'https://minedbuildings.blob.core.windows.net/global-buildings/2022-10-22/global-buildings.geojsonl/RegionName%3DBolivia/quadkey%3D210122032/part-00063-0bb2b168-55d3-4db4-8ea5-fee18b0aa622.c000.csv.gz',\n",
       "       'https://minedbuildings.blob.core.windows.net/global-buildings/2022-10-22/global-buildings.geojsonl/RegionName%3DBolivia/quadkey%3D210122033/part-00115-0bb2b168-55d3-4db4-8ea5-fee18b0aa622.c000.csv.gz',\n",
       "       'https://minedbuildings.blob.core.windows.net/global-buildings/2022-10-22/global-buildings.geojsonl/RegionName%3DBolivia/quadkey%3D210122100/part-00066-0bb2b168-55d3-4db4-8ea5-fee18b0aa622.c000.csv.gz',\n",
       "       'https://minedbuildings.blob.core.windows.net/global-buildings/2022-10-22/global-buildings.geojsonl/RegionName%3DBolivia/quadkey%3D210122101/part-00151-0bb2b168-55d3-4db4-8ea5-fee18b0aa622.c000.csv.gz',\n",
       "       'https://minedbuildings.blob.core.windows.net/global-buildings/2022-10-22/global-buildings.geojsonl/RegionName%3DBolivia/quadkey%3D210122102/part-00041-0bb2b168-55d3-4db4-8ea5-fee18b0aa622.c000.csv.gz',\n",
       "       'https://minedbuildings.blob.core.windows.net/global-buildings/2022-10-22/global-buildings.geojsonl/RegionName%3DBolivia/quadkey%3D210122103/part-00188-0bb2b168-55d3-4db4-8ea5-fee18b0aa622.c000.csv.gz',\n",
       "       'https://minedbuildings.blob.core.windows.net/global-buildings/2022-10-22/global-buildings.geojsonl/RegionName%3DBolivia/quadkey%3D210122110/part-00032-0bb2b168-55d3-4db4-8ea5-fee18b0aa622.c000.csv.gz',\n",
       "       'https://minedbuildings.blob.core.windows.net/global-buildings/2022-10-22/global-buildings.geojsonl/RegionName%3DBolivia/quadkey%3D210122111/part-00098-0bb2b168-55d3-4db4-8ea5-fee18b0aa622.c000.csv.gz',\n",
       "       'https://minedbuildings.blob.core.windows.net/global-buildings/2022-10-22/global-buildings.geojsonl/RegionName%3DBolivia/quadkey%3D210122112/part-00017-0bb2b168-55d3-4db4-8ea5-fee18b0aa622.c000.csv.gz',\n",
       "       'https://minedbuildings.blob.core.windows.net/global-buildings/2022-10-22/global-buildings.geojsonl/RegionName%3DBolivia/quadkey%3D210122113/part-00103-0bb2b168-55d3-4db4-8ea5-fee18b0aa622.c000.csv.gz',\n",
       "       'https://minedbuildings.blob.core.windows.net/global-buildings/2022-10-22/global-buildings.geojsonl/RegionName%3DBolivia/quadkey%3D210122120/part-00105-0bb2b168-55d3-4db4-8ea5-fee18b0aa622.c000.csv.gz',\n",
       "       'https://minedbuildings.blob.core.windows.net/global-buildings/2022-10-22/global-buildings.geojsonl/RegionName%3DBolivia/quadkey%3D210122121/part-00175-0bb2b168-55d3-4db4-8ea5-fee18b0aa622.c000.csv.gz',\n",
       "       'https://minedbuildings.blob.core.windows.net/global-buildings/2022-10-22/global-buildings.geojsonl/RegionName%3DBolivia/quadkey%3D210122122/part-00030-0bb2b168-55d3-4db4-8ea5-fee18b0aa622.c000.csv.gz',\n",
       "       'https://minedbuildings.blob.core.windows.net/global-buildings/2022-10-22/global-buildings.geojsonl/RegionName%3DBolivia/quadkey%3D210122123/part-00162-0bb2b168-55d3-4db4-8ea5-fee18b0aa622.c000.csv.gz',\n",
       "       'https://minedbuildings.blob.core.windows.net/global-buildings/2022-10-22/global-buildings.geojsonl/RegionName%3DBolivia/quadkey%3D210122130/part-00154-0bb2b168-55d3-4db4-8ea5-fee18b0aa622.c000.csv.gz',\n",
       "       'https://minedbuildings.blob.core.windows.net/global-buildings/2022-10-22/global-buildings.geojsonl/RegionName%3DBolivia/quadkey%3D210122131/part-00044-0bb2b168-55d3-4db4-8ea5-fee18b0aa622.c000.csv.gz',\n",
       "       'https://minedbuildings.blob.core.windows.net/global-buildings/2022-10-22/global-buildings.geojsonl/RegionName%3DBolivia/quadkey%3D210122132/part-00083-0bb2b168-55d3-4db4-8ea5-fee18b0aa622.c000.csv.gz',\n",
       "       'https://minedbuildings.blob.core.windows.net/global-buildings/2022-10-22/global-buildings.geojsonl/RegionName%3DBolivia/quadkey%3D210122133/part-00161-0bb2b168-55d3-4db4-8ea5-fee18b0aa622.c000.csv.gz',\n",
       "       'https://minedbuildings.blob.core.windows.net/global-buildings/2022-10-22/global-buildings.geojsonl/RegionName%3DBolivia/quadkey%3D210122200/part-00135-0bb2b168-55d3-4db4-8ea5-fee18b0aa622.c000.csv.gz',\n",
       "       'https://minedbuildings.blob.core.windows.net/global-buildings/2022-10-22/global-buildings.geojsonl/RegionName%3DBolivia/quadkey%3D210122201/part-00005-0bb2b168-55d3-4db4-8ea5-fee18b0aa622.c000.csv.gz',\n",
       "       'https://minedbuildings.blob.core.windows.net/global-buildings/2022-10-22/global-buildings.geojsonl/RegionName%3DBolivia/quadkey%3D210122202/part-00024-0bb2b168-55d3-4db4-8ea5-fee18b0aa622.c000.csv.gz',\n",
       "       'https://minedbuildings.blob.core.windows.net/global-buildings/2022-10-22/global-buildings.geojsonl/RegionName%3DBolivia/quadkey%3D210122203/part-00063-0bb2b168-55d3-4db4-8ea5-fee18b0aa622.c000.csv.gz',\n",
       "       'https://minedbuildings.blob.core.windows.net/global-buildings/2022-10-22/global-buildings.geojsonl/RegionName%3DBolivia/quadkey%3D210122210/part-00103-0bb2b168-55d3-4db4-8ea5-fee18b0aa622.c000.csv.gz',\n",
       "       'https://minedbuildings.blob.core.windows.net/global-buildings/2022-10-22/global-buildings.geojsonl/RegionName%3DBolivia/quadkey%3D210122211/part-00190-0bb2b168-55d3-4db4-8ea5-fee18b0aa622.c000.csv.gz',\n",
       "       'https://minedbuildings.blob.core.windows.net/global-buildings/2022-10-22/global-buildings.geojsonl/RegionName%3DBolivia/quadkey%3D210122212/part-00094-0bb2b168-55d3-4db4-8ea5-fee18b0aa622.c000.csv.gz',\n",
       "       'https://minedbuildings.blob.core.windows.net/global-buildings/2022-10-22/global-buildings.geojsonl/RegionName%3DBolivia/quadkey%3D210122213/part-00181-0bb2b168-55d3-4db4-8ea5-fee18b0aa622.c000.csv.gz',\n",
       "       'https://minedbuildings.blob.core.windows.net/global-buildings/2022-10-22/global-buildings.geojsonl/RegionName%3DBolivia/quadkey%3D210122220/part-00025-0bb2b168-55d3-4db4-8ea5-fee18b0aa622.c000.csv.gz',\n",
       "       'https://minedbuildings.blob.core.windows.net/global-buildings/2022-10-22/global-buildings.geojsonl/RegionName%3DBolivia/quadkey%3D210122221/part-00144-0bb2b168-55d3-4db4-8ea5-fee18b0aa622.c000.csv.gz',\n",
       "       'https://minedbuildings.blob.core.windows.net/global-buildings/2022-10-22/global-buildings.geojsonl/RegionName%3DBolivia/quadkey%3D210122300/part-00195-0bb2b168-55d3-4db4-8ea5-fee18b0aa622.c000.csv.gz',\n",
       "       'https://minedbuildings.blob.core.windows.net/global-buildings/2022-10-22/global-buildings.geojsonl/RegionName%3DBolivia/quadkey%3D210122301/part-00038-0bb2b168-55d3-4db4-8ea5-fee18b0aa622.c000.csv.gz',\n",
       "       'https://minedbuildings.blob.core.windows.net/global-buildings/2022-10-22/global-buildings.geojsonl/RegionName%3DBolivia/quadkey%3D210122302/part-00177-0bb2b168-55d3-4db4-8ea5-fee18b0aa622.c000.csv.gz',\n",
       "       'https://minedbuildings.blob.core.windows.net/global-buildings/2022-10-22/global-buildings.geojsonl/RegionName%3DBolivia/quadkey%3D210122303/part-00049-0bb2b168-55d3-4db4-8ea5-fee18b0aa622.c000.csv.gz',\n",
       "       'https://minedbuildings.blob.core.windows.net/global-buildings/2022-10-22/global-buildings.geojsonl/RegionName%3DBolivia/quadkey%3D210122310/part-00089-0bb2b168-55d3-4db4-8ea5-fee18b0aa622.c000.csv.gz',\n",
       "       'https://minedbuildings.blob.core.windows.net/global-buildings/2022-10-22/global-buildings.geojsonl/RegionName%3DBolivia/quadkey%3D210122311/part-00102-0bb2b168-55d3-4db4-8ea5-fee18b0aa622.c000.csv.gz',\n",
       "       'https://minedbuildings.blob.core.windows.net/global-buildings/2022-10-22/global-buildings.geojsonl/RegionName%3DBolivia/quadkey%3D210122313/part-00120-0bb2b168-55d3-4db4-8ea5-fee18b0aa622.c000.csv.gz',\n",
       "       'https://minedbuildings.blob.core.windows.net/global-buildings/2022-10-22/global-buildings.geojsonl/RegionName%3DBolivia/quadkey%3D210122331/part-00129-0bb2b168-55d3-4db4-8ea5-fee18b0aa622.c000.csv.gz',\n",
       "       'https://minedbuildings.blob.core.windows.net/global-buildings/2022-10-22/global-buildings.geojsonl/RegionName%3DBolivia/quadkey%3D210123000/part-00150-0bb2b168-55d3-4db4-8ea5-fee18b0aa622.c000.csv.gz',\n",
       "       'https://minedbuildings.blob.core.windows.net/global-buildings/2022-10-22/global-buildings.geojsonl/RegionName%3DBolivia/quadkey%3D210123001/part-00156-0bb2b168-55d3-4db4-8ea5-fee18b0aa622.c000.csv.gz',\n",
       "       'https://minedbuildings.blob.core.windows.net/global-buildings/2022-10-22/global-buildings.geojsonl/RegionName%3DBolivia/quadkey%3D210123002/part-00160-0bb2b168-55d3-4db4-8ea5-fee18b0aa622.c000.csv.gz',\n",
       "       'https://minedbuildings.blob.core.windows.net/global-buildings/2022-10-22/global-buildings.geojsonl/RegionName%3DBolivia/quadkey%3D210123003/part-00130-0bb2b168-55d3-4db4-8ea5-fee18b0aa622.c000.csv.gz',\n",
       "       'https://minedbuildings.blob.core.windows.net/global-buildings/2022-10-22/global-buildings.geojsonl/RegionName%3DBolivia/quadkey%3D210123010/part-00199-0bb2b168-55d3-4db4-8ea5-fee18b0aa622.c000.csv.gz',\n",
       "       'https://minedbuildings.blob.core.windows.net/global-buildings/2022-10-22/global-buildings.geojsonl/RegionName%3DBolivia/quadkey%3D210123011/part-00000-0bb2b168-55d3-4db4-8ea5-fee18b0aa622.c000.csv.gz',\n",
       "       'https://minedbuildings.blob.core.windows.net/global-buildings/2022-10-22/global-buildings.geojsonl/RegionName%3DBolivia/quadkey%3D210123012/part-00122-0bb2b168-55d3-4db4-8ea5-fee18b0aa622.c000.csv.gz',\n",
       "       'https://minedbuildings.blob.core.windows.net/global-buildings/2022-10-22/global-buildings.geojsonl/RegionName%3DBolivia/quadkey%3D210123013/part-00100-0bb2b168-55d3-4db4-8ea5-fee18b0aa622.c000.csv.gz',\n",
       "       'https://minedbuildings.blob.core.windows.net/global-buildings/2022-10-22/global-buildings.geojsonl/RegionName%3DBolivia/quadkey%3D210123020/part-00186-0bb2b168-55d3-4db4-8ea5-fee18b0aa622.c000.csv.gz',\n",
       "       'https://minedbuildings.blob.core.windows.net/global-buildings/2022-10-22/global-buildings.geojsonl/RegionName%3DBolivia/quadkey%3D210123021/part-00014-0bb2b168-55d3-4db4-8ea5-fee18b0aa622.c000.csv.gz',\n",
       "       'https://minedbuildings.blob.core.windows.net/global-buildings/2022-10-22/global-buildings.geojsonl/RegionName%3DBolivia/quadkey%3D210123023/part-00170-0bb2b168-55d3-4db4-8ea5-fee18b0aa622.c000.csv.gz',\n",
       "       'https://minedbuildings.blob.core.windows.net/global-buildings/2022-10-22/global-buildings.geojsonl/RegionName%3DBolivia/quadkey%3D210123030/part-00140-0bb2b168-55d3-4db4-8ea5-fee18b0aa622.c000.csv.gz',\n",
       "       'https://minedbuildings.blob.core.windows.net/global-buildings/2022-10-22/global-buildings.geojsonl/RegionName%3DBolivia/quadkey%3D210123031/part-00108-0bb2b168-55d3-4db4-8ea5-fee18b0aa622.c000.csv.gz',\n",
       "       'https://minedbuildings.blob.core.windows.net/global-buildings/2022-10-22/global-buildings.geojsonl/RegionName%3DBolivia/quadkey%3D210123032/part-00177-0bb2b168-55d3-4db4-8ea5-fee18b0aa622.c000.csv.gz',\n",
       "       'https://minedbuildings.blob.core.windows.net/global-buildings/2022-10-22/global-buildings.geojsonl/RegionName%3DBolivia/quadkey%3D210123033/part-00099-0bb2b168-55d3-4db4-8ea5-fee18b0aa622.c000.csv.gz',\n",
       "       'https://minedbuildings.blob.core.windows.net/global-buildings/2022-10-22/global-buildings.geojsonl/RegionName%3DBolivia/quadkey%3D210123100/part-00092-0bb2b168-55d3-4db4-8ea5-fee18b0aa622.c000.csv.gz',\n",
       "       'https://minedbuildings.blob.core.windows.net/global-buildings/2022-10-22/global-buildings.geojsonl/RegionName%3DBolivia/quadkey%3D210123102/part-00062-0bb2b168-55d3-4db4-8ea5-fee18b0aa622.c000.csv.gz',\n",
       "       'https://minedbuildings.blob.core.windows.net/global-buildings/2022-10-22/global-buildings.geojsonl/RegionName%3DBolivia/quadkey%3D210123103/part-00131-0bb2b168-55d3-4db4-8ea5-fee18b0aa622.c000.csv.gz',\n",
       "       'https://minedbuildings.blob.core.windows.net/global-buildings/2022-10-22/global-buildings.geojsonl/RegionName%3DBolivia/quadkey%3D210123120/part-00169-0bb2b168-55d3-4db4-8ea5-fee18b0aa622.c000.csv.gz',\n",
       "       'https://minedbuildings.blob.core.windows.net/global-buildings/2022-10-22/global-buildings.geojsonl/RegionName%3DBolivia/quadkey%3D210123121/part-00141-0bb2b168-55d3-4db4-8ea5-fee18b0aa622.c000.csv.gz',\n",
       "       'https://minedbuildings.blob.core.windows.net/global-buildings/2022-10-22/global-buildings.geojsonl/RegionName%3DBolivia/quadkey%3D210123122/part-00039-0bb2b168-55d3-4db4-8ea5-fee18b0aa622.c000.csv.gz',\n",
       "       'https://minedbuildings.blob.core.windows.net/global-buildings/2022-10-22/global-buildings.geojsonl/RegionName%3DBolivia/quadkey%3D210123123/part-00012-0bb2b168-55d3-4db4-8ea5-fee18b0aa622.c000.csv.gz',\n",
       "       'https://minedbuildings.blob.core.windows.net/global-buildings/2022-10-22/global-buildings.geojsonl/RegionName%3DBolivia/quadkey%3D210123201/part-00159-0bb2b168-55d3-4db4-8ea5-fee18b0aa622.c000.csv.gz',\n",
       "       'https://minedbuildings.blob.core.windows.net/global-buildings/2022-10-22/global-buildings.geojsonl/RegionName%3DBolivia/quadkey%3D210123301/part-00190-0bb2b168-55d3-4db4-8ea5-fee18b0aa622.c000.csv.gz',\n",
       "       'https://minedbuildings.blob.core.windows.net/global-buildings/2022-10-22/global-buildings.geojsonl/RegionName%3DBolivia/quadkey%3D210123303/part-00017-0bb2b168-55d3-4db4-8ea5-fee18b0aa622.c000.csv.gz',\n",
       "       'https://minedbuildings.blob.core.windows.net/global-buildings/2022-10-22/global-buildings.geojsonl/RegionName%3DBolivia/quadkey%3D210300100/part-00013-0bb2b168-55d3-4db4-8ea5-fee18b0aa622.c000.csv.gz',\n",
       "       'https://minedbuildings.blob.core.windows.net/global-buildings/2022-10-22/global-buildings.geojsonl/RegionName%3DBolivia/quadkey%3D210300101/part-00155-0bb2b168-55d3-4db4-8ea5-fee18b0aa622.c000.csv.gz',\n",
       "       'https://minedbuildings.blob.core.windows.net/global-buildings/2022-10-22/global-buildings.geojsonl/RegionName%3DBolivia/quadkey%3D210300102/part-00066-0bb2b168-55d3-4db4-8ea5-fee18b0aa622.c000.csv.gz'],\n",
       "      dtype=object)"
      ]
     },
     "execution_count": 9,
     "metadata": {},
     "output_type": "execute_result"
    }
   ],
   "source": [
    "x[x.Location == \"Bolivia\"].Url.values"
   ]
  },
  {
   "cell_type": "code",
   "execution_count": 8,
   "metadata": {},
   "outputs": [
    {
     "ename": "AttributeError",
     "evalue": "",
     "output_type": "error",
     "traceback": [
      "\u001b[1;31m---------------------------------------------------------------------------\u001b[0m",
      "\u001b[1;31mAttributeError\u001b[0m                            Traceback (most recent call last)",
      "\u001b[1;32mc:\\Users\\renat\\Documents\\GitHub\\tradesman\\update_bing_footprint.ipynb Célula: 4\u001b[0m in \u001b[0;36m<cell line: 1>\u001b[1;34m()\u001b[0m\n\u001b[1;32m----> <a href='vscode-notebook-cell:/c%3A/Users/renat/Documents/GitHub/tradesman/update_bing_footprint.ipynb#W3sZmlsZQ%3D%3D?line=0'>1</a>\u001b[0m k \u001b[39m=\u001b[39m pycountry\u001b[39m.\u001b[39;49mcountries\u001b[39m.\u001b[39;49msearch_fuzzy(\u001b[39m\"\u001b[39;49m\u001b[39mGermany\u001b[39;49m\u001b[39m\"\u001b[39;49m)[\u001b[39m0\u001b[39;49m]\u001b[39m.\u001b[39;49mcommon_name\n",
      "File \u001b[1;32mc:\\Users\\renat\\anaconda3\\lib\\site-packages\\pycountry\\db.py:17\u001b[0m, in \u001b[0;36mData.__getattr__\u001b[1;34m(self, key)\u001b[0m\n\u001b[0;32m     15\u001b[0m \u001b[39mdef\u001b[39;00m \u001b[39m__getattr__\u001b[39m(\u001b[39mself\u001b[39m, key):\n\u001b[0;32m     16\u001b[0m     \u001b[39mif\u001b[39;00m key \u001b[39mnot\u001b[39;00m \u001b[39min\u001b[39;00m \u001b[39mself\u001b[39m\u001b[39m.\u001b[39m_fields:\n\u001b[1;32m---> 17\u001b[0m         \u001b[39mraise\u001b[39;00m \u001b[39mAttributeError\u001b[39;00m\n\u001b[0;32m     18\u001b[0m     \u001b[39mreturn\u001b[39;00m \u001b[39mself\u001b[39m\u001b[39m.\u001b[39m_fields[key]\n",
      "\u001b[1;31mAttributeError\u001b[0m: "
     ]
    }
   ],
   "source": [
    "k = pycountry.countries.search_fuzzy(\"Germany\")[0].common_name"
   ]
  },
  {
   "cell_type": "code",
   "execution_count": 12,
   "metadata": {},
   "outputs": [
    {
     "data": {
      "text/plain": [
       "Country(alpha_2='BO', alpha_3='BOL', common_name='Bolivia', flag='🇧🇴', name='Bolivia, Plurinational State of', numeric='068', official_name='Plurinational State of Bolivia')"
      ]
     },
     "execution_count": 12,
     "metadata": {},
     "output_type": "execute_result"
    }
   ],
   "source": [
    "pycountry.countries.search_fuzzy(\"Bolivia\")[0]"
   ]
  },
  {
   "cell_type": "code",
   "execution_count": 2,
   "metadata": {},
   "outputs": [],
   "source": [
    "url = [\"https://minedbuildings.blob.core.windows.net/global-buildings/2022-10-22/global-buildings.geojsonl/RegionName%3DUruguay/quadkey%3D210312223/part-00074-0bb2b168-55d3-4db4-8ea5-fee18b0aa622.c000.csv.gz\",\n",
    "\"https://minedbuildings.blob.core.windows.net/global-buildings/2022-10-22/global-buildings.geojsonl/RegionName%3DUruguay/quadkey%3D210312232/part-00139-0bb2b168-55d3-4db4-8ea5-fee18b0aa622.c000.csv.gz\",\n",
    "\"https://minedbuildings.blob.core.windows.net/global-buildings/2022-10-22/global-buildings.geojsonl/RegionName%3DUruguay/quadkey%3D210312233/part-00055-0bb2b168-55d3-4db4-8ea5-fee18b0aa622.c000.csv.gz\",\n",
    "\"https://minedbuildings.blob.core.windows.net/global-buildings/2022-10-22/global-buildings.geojsonl/RegionName%3DUruguay/quadkey%3D210321131/part-00161-0bb2b168-55d3-4db4-8ea5-fee18b0aa622.c000.csv.gz\"]"
   ]
  },
  {
   "cell_type": "code",
   "execution_count": 10,
   "metadata": {},
   "outputs": [],
   "source": [
    "url = x[x.Location == \"Uruguay\"].Url.values"
   ]
  },
  {
   "cell_type": "code",
   "execution_count": 12,
   "metadata": {},
   "outputs": [
    {
     "ename": "KeyboardInterrupt",
     "evalue": "",
     "output_type": "error",
     "traceback": [
      "\u001b[1;31m---------------------------------------------------------------------------\u001b[0m",
      "\u001b[1;31mKeyboardInterrupt\u001b[0m                         Traceback (most recent call last)",
      "\u001b[1;32mc:\\Users\\renat\\Documents\\GitHub\\tradesman\\update_bing_footprint.ipynb Célula: 8\u001b[0m in \u001b[0;36m<cell line: 3>\u001b[1;34m()\u001b[0m\n\u001b[0;32m      <a href='vscode-notebook-cell:/c%3A/Users/renat/Documents/GitHub/tradesman/update_bing_footprint.ipynb#W6sZmlsZQ%3D%3D?line=3'>4</a>\u001b[0m dest_path\u001b[39m=\u001b[39mjoin(gettempdir(),\u001b[39mf\u001b[39m\u001b[39m\"\u001b[39m\u001b[39mURY_\u001b[39m\u001b[39m{\u001b[39;00mi\u001b[39m}\u001b[39;00m\u001b[39m_bing.gz\u001b[39m\u001b[39m\"\u001b[39m)\n\u001b[0;32m      <a href='vscode-notebook-cell:/c%3A/Users/renat/Documents/GitHub/tradesman/update_bing_footprint.ipynb#W6sZmlsZQ%3D%3D?line=5'>6</a>\u001b[0m \u001b[39mif\u001b[39;00m \u001b[39mnot\u001b[39;00m isfile(dest_path):\n\u001b[1;32m----> <a href='vscode-notebook-cell:/c%3A/Users/renat/Documents/GitHub/tradesman/update_bing_footprint.ipynb#W6sZmlsZQ%3D%3D?line=6'>7</a>\u001b[0m     urlretrieve(url[i], dest_path)\n\u001b[0;32m      <a href='vscode-notebook-cell:/c%3A/Users/renat/Documents/GitHub/tradesman/update_bing_footprint.ipynb#W6sZmlsZQ%3D%3D?line=8'>9</a>\u001b[0m \u001b[39mwith\u001b[39;00m gzip\u001b[39m.\u001b[39mopen(dest_path, \u001b[39m'\u001b[39m\u001b[39mrb\u001b[39m\u001b[39m'\u001b[39m) \u001b[39mas\u001b[39;00m file:\n\u001b[0;32m     <a href='vscode-notebook-cell:/c%3A/Users/renat/Documents/GitHub/tradesman/update_bing_footprint.ipynb#W6sZmlsZQ%3D%3D?line=9'>10</a>\u001b[0m     frame_list\u001b[39m.\u001b[39mappend(gpd\u001b[39m.\u001b[39mread_file(file))\n",
      "File \u001b[1;32mc:\\Users\\renat\\anaconda3\\lib\\urllib\\request.py:268\u001b[0m, in \u001b[0;36murlretrieve\u001b[1;34m(url, filename, reporthook, data)\u001b[0m\n\u001b[0;32m    265\u001b[0m     reporthook(blocknum, bs, size)\n\u001b[0;32m    267\u001b[0m \u001b[39mwhile\u001b[39;00m \u001b[39mTrue\u001b[39;00m:\n\u001b[1;32m--> 268\u001b[0m     block \u001b[39m=\u001b[39m fp\u001b[39m.\u001b[39;49mread(bs)\n\u001b[0;32m    269\u001b[0m     \u001b[39mif\u001b[39;00m \u001b[39mnot\u001b[39;00m block:\n\u001b[0;32m    270\u001b[0m         \u001b[39mbreak\u001b[39;00m\n",
      "File \u001b[1;32mc:\\Users\\renat\\anaconda3\\lib\\http\\client.py:463\u001b[0m, in \u001b[0;36mHTTPResponse.read\u001b[1;34m(self, amt)\u001b[0m\n\u001b[0;32m    460\u001b[0m \u001b[39mif\u001b[39;00m amt \u001b[39mis\u001b[39;00m \u001b[39mnot\u001b[39;00m \u001b[39mNone\u001b[39;00m:\n\u001b[0;32m    461\u001b[0m     \u001b[39m# Amount is given, implement using readinto\u001b[39;00m\n\u001b[0;32m    462\u001b[0m     b \u001b[39m=\u001b[39m \u001b[39mbytearray\u001b[39m(amt)\n\u001b[1;32m--> 463\u001b[0m     n \u001b[39m=\u001b[39m \u001b[39mself\u001b[39;49m\u001b[39m.\u001b[39;49mreadinto(b)\n\u001b[0;32m    464\u001b[0m     \u001b[39mreturn\u001b[39;00m \u001b[39mmemoryview\u001b[39m(b)[:n]\u001b[39m.\u001b[39mtobytes()\n\u001b[0;32m    465\u001b[0m \u001b[39melse\u001b[39;00m:\n\u001b[0;32m    466\u001b[0m     \u001b[39m# Amount is not given (unbounded read) so we must check self.length\u001b[39;00m\n\u001b[0;32m    467\u001b[0m     \u001b[39m# and self.chunked\u001b[39;00m\n",
      "File \u001b[1;32mc:\\Users\\renat\\anaconda3\\lib\\http\\client.py:507\u001b[0m, in \u001b[0;36mHTTPResponse.readinto\u001b[1;34m(self, b)\u001b[0m\n\u001b[0;32m    502\u001b[0m         b \u001b[39m=\u001b[39m \u001b[39mmemoryview\u001b[39m(b)[\u001b[39m0\u001b[39m:\u001b[39mself\u001b[39m\u001b[39m.\u001b[39mlength]\n\u001b[0;32m    504\u001b[0m \u001b[39m# we do not use _safe_read() here because this may be a .will_close\u001b[39;00m\n\u001b[0;32m    505\u001b[0m \u001b[39m# connection, and the user is reading more bytes than will be provided\u001b[39;00m\n\u001b[0;32m    506\u001b[0m \u001b[39m# (for example, reading in 1k chunks)\u001b[39;00m\n\u001b[1;32m--> 507\u001b[0m n \u001b[39m=\u001b[39m \u001b[39mself\u001b[39;49m\u001b[39m.\u001b[39;49mfp\u001b[39m.\u001b[39;49mreadinto(b)\n\u001b[0;32m    508\u001b[0m \u001b[39mif\u001b[39;00m \u001b[39mnot\u001b[39;00m n \u001b[39mand\u001b[39;00m b:\n\u001b[0;32m    509\u001b[0m     \u001b[39m# Ideally, we would raise IncompleteRead if the content-length\u001b[39;00m\n\u001b[0;32m    510\u001b[0m     \u001b[39m# wasn't satisfied, but it might break compatibility.\u001b[39;00m\n\u001b[0;32m    511\u001b[0m     \u001b[39mself\u001b[39m\u001b[39m.\u001b[39m_close_conn()\n",
      "File \u001b[1;32mc:\\Users\\renat\\anaconda3\\lib\\socket.py:704\u001b[0m, in \u001b[0;36mSocketIO.readinto\u001b[1;34m(self, b)\u001b[0m\n\u001b[0;32m    702\u001b[0m \u001b[39mwhile\u001b[39;00m \u001b[39mTrue\u001b[39;00m:\n\u001b[0;32m    703\u001b[0m     \u001b[39mtry\u001b[39;00m:\n\u001b[1;32m--> 704\u001b[0m         \u001b[39mreturn\u001b[39;00m \u001b[39mself\u001b[39;49m\u001b[39m.\u001b[39;49m_sock\u001b[39m.\u001b[39;49mrecv_into(b)\n\u001b[0;32m    705\u001b[0m     \u001b[39mexcept\u001b[39;00m timeout:\n\u001b[0;32m    706\u001b[0m         \u001b[39mself\u001b[39m\u001b[39m.\u001b[39m_timeout_occurred \u001b[39m=\u001b[39m \u001b[39mTrue\u001b[39;00m\n",
      "File \u001b[1;32mc:\\Users\\renat\\anaconda3\\lib\\ssl.py:1241\u001b[0m, in \u001b[0;36mSSLSocket.recv_into\u001b[1;34m(self, buffer, nbytes, flags)\u001b[0m\n\u001b[0;32m   1237\u001b[0m     \u001b[39mif\u001b[39;00m flags \u001b[39m!=\u001b[39m \u001b[39m0\u001b[39m:\n\u001b[0;32m   1238\u001b[0m         \u001b[39mraise\u001b[39;00m \u001b[39mValueError\u001b[39;00m(\n\u001b[0;32m   1239\u001b[0m           \u001b[39m\"\u001b[39m\u001b[39mnon-zero flags not allowed in calls to recv_into() on \u001b[39m\u001b[39m%s\u001b[39;00m\u001b[39m\"\u001b[39m \u001b[39m%\u001b[39m\n\u001b[0;32m   1240\u001b[0m           \u001b[39mself\u001b[39m\u001b[39m.\u001b[39m\u001b[39m__class__\u001b[39m)\n\u001b[1;32m-> 1241\u001b[0m     \u001b[39mreturn\u001b[39;00m \u001b[39mself\u001b[39;49m\u001b[39m.\u001b[39;49mread(nbytes, buffer)\n\u001b[0;32m   1242\u001b[0m \u001b[39melse\u001b[39;00m:\n\u001b[0;32m   1243\u001b[0m     \u001b[39mreturn\u001b[39;00m \u001b[39msuper\u001b[39m()\u001b[39m.\u001b[39mrecv_into(buffer, nbytes, flags)\n",
      "File \u001b[1;32mc:\\Users\\renat\\anaconda3\\lib\\ssl.py:1099\u001b[0m, in \u001b[0;36mSSLSocket.read\u001b[1;34m(self, len, buffer)\u001b[0m\n\u001b[0;32m   1097\u001b[0m \u001b[39mtry\u001b[39;00m:\n\u001b[0;32m   1098\u001b[0m     \u001b[39mif\u001b[39;00m buffer \u001b[39mis\u001b[39;00m \u001b[39mnot\u001b[39;00m \u001b[39mNone\u001b[39;00m:\n\u001b[1;32m-> 1099\u001b[0m         \u001b[39mreturn\u001b[39;00m \u001b[39mself\u001b[39;49m\u001b[39m.\u001b[39;49m_sslobj\u001b[39m.\u001b[39;49mread(\u001b[39mlen\u001b[39;49m, buffer)\n\u001b[0;32m   1100\u001b[0m     \u001b[39melse\u001b[39;00m:\n\u001b[0;32m   1101\u001b[0m         \u001b[39mreturn\u001b[39;00m \u001b[39mself\u001b[39m\u001b[39m.\u001b[39m_sslobj\u001b[39m.\u001b[39mread(\u001b[39mlen\u001b[39m)\n",
      "\u001b[1;31mKeyboardInterrupt\u001b[0m: "
     ]
    }
   ],
   "source": [
    "frame_list = []\n",
    "\n",
    "for i in range(len(url)):\n",
    "    dest_path=join(gettempdir(),f\"URY_{i}_bing.gz\")\n",
    "\n",
    "    if not isfile(dest_path):\n",
    "        urlretrieve(url[i], dest_path)\n",
    "\n",
    "    with gzip.open(dest_path, 'rb') as file:\n",
    "        frame_list.append(gpd.read_file(file))\n"
   ]
  },
  {
   "cell_type": "code",
   "execution_count": 6,
   "metadata": {},
   "outputs": [
    {
     "data": {
      "text/plain": [
       "geopandas.geodataframe.GeoDataFrame"
      ]
     },
     "execution_count": 6,
     "metadata": {},
     "output_type": "execute_result"
    }
   ],
   "source": [
    "len(pd.concat(frame_list))"
   ]
  },
  {
   "cell_type": "code",
   "execution_count": 2,
   "metadata": {},
   "outputs": [],
   "source": [
    "#country_code=pycountry.countries.search_fuzzy(\"VaticanCity\")[0].alpha_3\n",
    "dest_path=join(gettempdir(),f\"URY_{}_bing.gz\")\n",
    "#country_list=pd.read_csv(join(dirname(__file__),\"data/microsoft_countries_and_territories.csv\"))\n"
   ]
  },
  {
   "cell_type": "code",
   "execution_count": 4,
   "metadata": {},
   "outputs": [],
   "source": [
    "if not isfile(dest_path):\n",
    "    urlretrieve(url, dest_path)\n"
   ]
  },
  {
   "cell_type": "code",
   "execution_count": 8,
   "metadata": {},
   "outputs": [],
   "source": [
    "with gzip.open(dest_path, 'rb') as f:\n",
    "    gpd = gpd.read_file(f)"
   ]
  },
  {
   "cell_type": "code",
   "execution_count": 5,
   "metadata": {},
   "outputs": [
    {
     "ename": "BadZipFile",
     "evalue": "File is not a zip file",
     "output_type": "error",
     "traceback": [
      "\u001b[1;31m---------------------------------------------------------------------------\u001b[0m",
      "\u001b[1;31mBadZipFile\u001b[0m                                Traceback (most recent call last)",
      "\u001b[1;32mUntitled-1.ipynb Célula: 6\u001b[0m in \u001b[0;36m<cell line: 1>\u001b[1;34m()\u001b[0m\n\u001b[1;32m----> <a href='vscode-notebook-cell:Untitled-1.ipynb?jupyter-notebook#X13sdW50aXRsZWQ%3D?line=0'>1</a>\u001b[0m zf \u001b[39m=\u001b[39m ZipFile(dest_path)\n",
      "File \u001b[1;32mc:\\Users\\renat\\anaconda3\\lib\\zipfile.py:1266\u001b[0m, in \u001b[0;36mZipFile.__init__\u001b[1;34m(self, file, mode, compression, allowZip64, compresslevel, strict_timestamps)\u001b[0m\n\u001b[0;32m   1264\u001b[0m \u001b[39mtry\u001b[39;00m:\n\u001b[0;32m   1265\u001b[0m     \u001b[39mif\u001b[39;00m mode \u001b[39m==\u001b[39m \u001b[39m'\u001b[39m\u001b[39mr\u001b[39m\u001b[39m'\u001b[39m:\n\u001b[1;32m-> 1266\u001b[0m         \u001b[39mself\u001b[39;49m\u001b[39m.\u001b[39;49m_RealGetContents()\n\u001b[0;32m   1267\u001b[0m     \u001b[39melif\u001b[39;00m mode \u001b[39min\u001b[39;00m (\u001b[39m'\u001b[39m\u001b[39mw\u001b[39m\u001b[39m'\u001b[39m, \u001b[39m'\u001b[39m\u001b[39mx\u001b[39m\u001b[39m'\u001b[39m):\n\u001b[0;32m   1268\u001b[0m         \u001b[39m# set the modified flag so central directory gets written\u001b[39;00m\n\u001b[0;32m   1269\u001b[0m         \u001b[39m# even if no files are added to the archive\u001b[39;00m\n\u001b[0;32m   1270\u001b[0m         \u001b[39mself\u001b[39m\u001b[39m.\u001b[39m_didModify \u001b[39m=\u001b[39m \u001b[39mTrue\u001b[39;00m\n",
      "File \u001b[1;32mc:\\Users\\renat\\anaconda3\\lib\\zipfile.py:1333\u001b[0m, in \u001b[0;36mZipFile._RealGetContents\u001b[1;34m(self)\u001b[0m\n\u001b[0;32m   1331\u001b[0m     \u001b[39mraise\u001b[39;00m BadZipFile(\u001b[39m\"\u001b[39m\u001b[39mFile is not a zip file\u001b[39m\u001b[39m\"\u001b[39m)\n\u001b[0;32m   1332\u001b[0m \u001b[39mif\u001b[39;00m \u001b[39mnot\u001b[39;00m endrec:\n\u001b[1;32m-> 1333\u001b[0m     \u001b[39mraise\u001b[39;00m BadZipFile(\u001b[39m\"\u001b[39m\u001b[39mFile is not a zip file\u001b[39m\u001b[39m\"\u001b[39m)\n\u001b[0;32m   1334\u001b[0m \u001b[39mif\u001b[39;00m \u001b[39mself\u001b[39m\u001b[39m.\u001b[39mdebug \u001b[39m>\u001b[39m \u001b[39m1\u001b[39m:\n\u001b[0;32m   1335\u001b[0m     \u001b[39mprint\u001b[39m(endrec)\n",
      "\u001b[1;31mBadZipFile\u001b[0m: File is not a zip file"
     ]
    }
   ],
   "source": [
    "zf = ZipFile(dest_path)\n"
   ]
  },
  {
   "cell_type": "code",
   "execution_count": 9,
   "metadata": {},
   "outputs": [
    {
     "data": {
      "text/html": [
       "<div>\n",
       "<style scoped>\n",
       "    .dataframe tbody tr th:only-of-type {\n",
       "        vertical-align: middle;\n",
       "    }\n",
       "\n",
       "    .dataframe tbody tr th {\n",
       "        vertical-align: top;\n",
       "    }\n",
       "\n",
       "    .dataframe thead th {\n",
       "        text-align: right;\n",
       "    }\n",
       "</style>\n",
       "<table border=\"1\" class=\"dataframe\">\n",
       "  <thead>\n",
       "    <tr style=\"text-align: right;\">\n",
       "      <th></th>\n",
       "      <th>geometry</th>\n",
       "    </tr>\n",
       "  </thead>\n",
       "  <tbody>\n",
       "    <tr>\n",
       "      <th>0</th>\n",
       "      <td>POLYGON ((12.44829 41.90253, 12.44824 41.90256...</td>\n",
       "    </tr>\n",
       "    <tr>\n",
       "      <th>1</th>\n",
       "      <td>POLYGON ((12.45691 41.90544, 12.45693 41.90580...</td>\n",
       "    </tr>\n",
       "    <tr>\n",
       "      <th>2</th>\n",
       "      <td>POLYGON ((12.45146 41.90286, 12.45122 41.90289...</td>\n",
       "    </tr>\n",
       "    <tr>\n",
       "      <th>3</th>\n",
       "      <td>POLYGON ((12.44965 41.90391, 12.44979 41.90374...</td>\n",
       "    </tr>\n",
       "    <tr>\n",
       "      <th>4</th>\n",
       "      <td>POLYGON ((12.45602 41.90543, 12.45572 41.90544...</td>\n",
       "    </tr>\n",
       "    <tr>\n",
       "      <th>...</th>\n",
       "      <td>...</td>\n",
       "    </tr>\n",
       "    <tr>\n",
       "      <th>86</th>\n",
       "      <td>POLYGON ((12.45126 41.90076, 12.45143 41.90083...</td>\n",
       "    </tr>\n",
       "    <tr>\n",
       "      <th>87</th>\n",
       "      <td>POLYGON ((12.45272 41.90117, 12.45274 41.90129...</td>\n",
       "    </tr>\n",
       "    <tr>\n",
       "      <th>88</th>\n",
       "      <td>POLYGON ((12.44976 41.90228, 12.44961 41.90228...</td>\n",
       "    </tr>\n",
       "    <tr>\n",
       "      <th>89</th>\n",
       "      <td>POLYGON ((12.44761 41.90161, 12.44761 41.90162...</td>\n",
       "    </tr>\n",
       "    <tr>\n",
       "      <th>90</th>\n",
       "      <td>POLYGON ((12.44663 41.90184, 12.44671 41.90211...</td>\n",
       "    </tr>\n",
       "  </tbody>\n",
       "</table>\n",
       "<p>91 rows × 1 columns</p>\n",
       "</div>"
      ],
      "text/plain": [
       "                                             geometry\n",
       "0   POLYGON ((12.44829 41.90253, 12.44824 41.90256...\n",
       "1   POLYGON ((12.45691 41.90544, 12.45693 41.90580...\n",
       "2   POLYGON ((12.45146 41.90286, 12.45122 41.90289...\n",
       "3   POLYGON ((12.44965 41.90391, 12.44979 41.90374...\n",
       "4   POLYGON ((12.45602 41.90543, 12.45572 41.90544...\n",
       "..                                                ...\n",
       "86  POLYGON ((12.45126 41.90076, 12.45143 41.90083...\n",
       "87  POLYGON ((12.45272 41.90117, 12.45274 41.90129...\n",
       "88  POLYGON ((12.44976 41.90228, 12.44961 41.90228...\n",
       "89  POLYGON ((12.44761 41.90161, 12.44761 41.90162...\n",
       "90  POLYGON ((12.44663 41.90184, 12.44671 41.90211...\n",
       "\n",
       "[91 rows x 1 columns]"
      ]
     },
     "execution_count": 9,
     "metadata": {},
     "output_type": "execute_result"
    }
   ],
   "source": [
    "gpd"
   ]
  },
  {
   "cell_type": "code",
   "execution_count": null,
   "metadata": {},
   "outputs": [],
   "source": [
    "with gzip.open('file.txt.gz', 'rb') as f_in:\n",
    "    with open('file.txt', 'wb') as f_out:\n",
    "        shutil.copyfileobj(f_in, f_out)"
   ]
  },
  {
   "cell_type": "code",
   "execution_count": null,
   "metadata": {},
   "outputs": [],
   "source": [
    "\n",
    "zf.extractall(gettempdir())\n"
   ]
  }
 ],
 "metadata": {
  "kernelspec": {
   "display_name": "Python 3.9.12 ('base')",
   "language": "python",
   "name": "python3"
  },
  "language_info": {
   "codemirror_mode": {
    "name": "ipython",
    "version": 3
   },
   "file_extension": ".py",
   "mimetype": "text/x-python",
   "name": "python",
   "nbconvert_exporter": "python",
   "pygments_lexer": "ipython3",
   "version": "3.9.12"
  },
  "orig_nbformat": 4,
  "vscode": {
   "interpreter": {
    "hash": "4f89240e11a62c0f9ffc54e01febbec25c1552bf38994777b0465512a43d202c"
   }
  }
 },
 "nbformat": 4,
 "nbformat_minor": 2
}
